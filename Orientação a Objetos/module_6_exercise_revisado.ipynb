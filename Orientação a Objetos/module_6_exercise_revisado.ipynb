{
 "cells": [
  {
   "cell_type": "markdown",
   "metadata": {
    "id": "KJqp9AANOCtf"
   },
   "source": [
    "<img src=\"https://raw.githubusercontent.com/andre-marcos-perez/ebac-course-utils/main/media/logo/newebac_logo_black_half.png\" alt=\"ebac-logo\">\n",
    "\n",
    "---\n",
    "\n",
    "# **Módulo** | Python: Programação Orientada a Objetos\n",
    "Caderno de **Exercícios**<br> \n",
    "Professor [André Perez](https://www.linkedin.com/in/andremarcosperez/)\n",
    "\n",
    "---"
   ]
  },
  {
   "cell_type": "markdown",
   "metadata": {
    "id": "d9jDtUbDOE1-"
   },
   "source": [
    "# **Tópicos**\n",
    "\n",
    "<ol type=\"1\">\n",
    "  <li>Um pouco de teoria;</li>\n",
    "  <li>Classes;</li>\n",
    "  <li>Objetos;</li>\n",
    "  <li>Herança.</li>\n",
    "</ol>"
   ]
  },
  {
   "cell_type": "markdown",
   "metadata": {
    "id": "SmoHgt-lwkpD"
   },
   "source": [
    "---"
   ]
  },
  {
   "cell_type": "markdown",
   "metadata": {
    "id": "GABI6OW8OfQ2"
   },
   "source": [
    "# **Exercícios**"
   ]
  },
  {
   "cell_type": "markdown",
   "metadata": {
    "id": "syVczIAwGO3A"
   },
   "source": [
    "## 0\\. Preparação do ambiente"
   ]
  },
  {
   "cell_type": "markdown",
   "metadata": {
    "id": "2X3TrxdzGO3C"
   },
   "source": [
    "Neste exercício vamos trabalhar com os arquivos de csv e texto definidos abaixo. Execute cada uma das células de código para escrever os arquivos na sua máquina virtual."
   ]
  },
  {
   "cell_type": "markdown",
   "metadata": {
    "id": "u0uFuhRSq_hQ"
   },
   "source": [
    "* **carros.csv**: arquivo csv com informações sobre carros (venda, manutenção, portas, etc.)."
   ]
  },
  {
   "cell_type": "code",
   "execution_count": 2,
   "metadata": {
    "colab": {
     "base_uri": "https://localhost:8080/"
    },
    "id": "daMf-xaXqKs2",
    "outputId": "aeceb239-3983-487e-a324-62eaced7e5d3"
   },
   "outputs": [
    {
     "name": "stdout",
     "output_type": "stream",
     "text": [
      "Overwriting carros.csv\n"
     ]
    }
   ],
   "source": [
    "%%writefile carros.csv\n",
    "id,valor_venda,valor_manutencao,portas,pessoas,porta_malas\n",
    "1,vhigh,med,2,2,small\n",
    "2,med,vhigh,2,2,small\n",
    "3,low,vhigh,2,2,small\n",
    "4,low,high,2,2,small\n",
    "5,low,high,2,2,small\n",
    "6,low,high,4,4,big\n",
    "7,low,high,4,4,big\n",
    "8,low,med,2,2,small\n",
    "9,low,med,2,2,small\n",
    "10,low,med,2,2,small\n",
    "11,low,med,4,4,big\n",
    "12,low,low,2,2,small\n",
    "13,low,low,4,4,small\n",
    "14,low,low,4,4,med"
   ]
  },
  {
   "cell_type": "markdown",
   "metadata": {
    "id": "X0Z2PhbCrTz1"
   },
   "source": [
    "* **musica.txt**: arquivo texto com a letra da música Roda Viva do Chico Buarque."
   ]
  },
  {
   "cell_type": "code",
   "execution_count": 3,
   "metadata": {
    "colab": {
     "base_uri": "https://localhost:8080/"
    },
    "id": "m7Ge2rggrU73",
    "outputId": "2cea36f1-d84e-40fe-fa21-5211339f69d5"
   },
   "outputs": [
    {
     "name": "stdout",
     "output_type": "stream",
     "text": [
      "Overwriting musica.txt\n"
     ]
    }
   ],
   "source": [
    "%%writefile musica.txt\n",
    "Roda Viva\n",
    "Chico Buarque\n",
    "\n",
    "Tem dias que a gente se sente\n",
    "Como quem partiu ou morreu\n",
    "A gente estancou de repente\n",
    "Ou foi o mundo então que cresceu\n",
    "A gente quer ter voz ativa\n",
    "No nosso destino mandar\n",
    "Mas eis que chega a roda viva\n",
    "E carrega o destino pra lá\n",
    "\n",
    "Roda mundo, roda-gigante\n",
    "Roda moinho, roda pião\n",
    "\n",
    "O tempo rodou num instante\n",
    "Nas voltas do meu coração\n",
    "A gente vai contra a corrente\n",
    "Até não poder resistir\n",
    "Na volta do barco é que sente\n",
    "O quanto deixou de cumprir\n",
    "Faz tempo que a gente cultiva\n",
    "A mais linda roseira que há\n",
    "Mas eis que chega a roda viva\n",
    "E carrega a roseira pra lá\n",
    "\n",
    "Roda mundo, roda-gigante\n",
    "Roda moinho, roda pião"
   ]
  },
  {
   "cell_type": "markdown",
   "metadata": {
    "id": "HV69LMAVGO3J"
   },
   "source": [
    "---"
   ]
  },
  {
   "cell_type": "markdown",
   "metadata": {
    "id": "U4S19ZvHsPcE"
   },
   "source": [
    "## 1\\. Classe para ler arquivos de texto"
   ]
  },
  {
   "cell_type": "markdown",
   "metadata": {
    "id": "HQrKGtoMGjf6"
   },
   "source": [
    "Crie a classe `ArquivoTexto`. Ela deve conter os seguintes atributos:\n",
    "\n",
    "*   `self.arquivo`: Atributo do tipo `str` com o nome do arquivo;\n",
    "*   `self.conteudo`: Atributo do tipo `list` onde cada elemento é uma linha do arquivo;\n",
    "\n",
    "A classe também deve conter o seguinte método:\n",
    "\n",
    "*   `self.extrair_conteudo`: Método que realiza a leitura do arquivo e retorna o conteúdo.\n",
    "\n",
    "*   `self.extrair_linha`: Método que recebe como parâmetro o número da linha e retorna a linha do conteúdo.\n"
   ]
  },
  {
   "cell_type": "code",
   "execution_count": 4,
   "metadata": {
    "id": "9QFsOQ9ZGXUC"
   },
   "outputs": [],
   "source": [
    "class ArquivoTexto:\n",
    "\n",
    "    def __init__(self, arquivo):\n",
    "        self.arquivo = arquivo\n",
    "        self.conteudo = self.extrair_conteudo()\n",
    "        \n",
    "        \n",
    "    def extrair_conteudo(self):\n",
    "        conteudo = []\n",
    "        with open(self.arquivo, 'r', encoding = 'utf8') as arquivo:\n",
    "            conteudo = arquivo.readlines()\n",
    "            return conteudo\n",
    "    \n",
    "    def extrair_linha(self, numero_linha):\n",
    "        linhas = []\n",
    "        while self.conteudo:\n",
    "            linhas.append(self.conteudo[numero_linha-1].strip())\n",
    "            return linhas\n",
    "        "
   ]
  },
  {
   "cell_type": "markdown",
   "metadata": {
    "id": "866OgsyHHw2M"
   },
   "source": [
    "Utilize o código abaixo para testar sua classe."
   ]
  },
  {
   "cell_type": "code",
   "execution_count": 5,
   "metadata": {
    "colab": {
     "base_uri": "https://localhost:8080/"
    },
    "id": "_HV_CE7CH8LO",
    "outputId": "88aafdcb-fa85-4ec9-bbfe-39961d5099e2"
   },
   "outputs": [
    {
     "name": "stdout",
     "output_type": "stream",
     "text": [
      "['Roda Viva']\n",
      "['Mas eis que chega a roda viva']\n"
     ]
    }
   ],
   "source": [
    "arquivo_texto = ArquivoTexto(arquivo='musica.txt')\n",
    "# numero_linha = 1\n",
    "print(arquivo_texto.extrair_linha(1)) # Roda Viva\n",
    "\n",
    "# numero_linha = 10\n",
    "print(arquivo_texto.extrair_linha(10)) # Mas eis que chega a roda viva"
   ]
  },
  {
   "cell_type": "markdown",
   "metadata": {
    "id": "zMN1Q3jdwoJm"
   },
   "source": [
    "---"
   ]
  },
  {
   "cell_type": "markdown",
   "metadata": {
    "id": "aQ8euzThIlLl"
   },
   "source": [
    "## 2\\. Classe para ler arquivos de csv"
   ]
  },
  {
   "cell_type": "markdown",
   "metadata": {
    "id": "EMWhvKAWIlL0"
   },
   "source": [
    "Crie a classe `ArquivoCSV`. Ela deve extender (herdar) a classe `ArquivoTexto` para reaproveitar os seus atributos (`self.arquivo` e `self.conteudo`). Além disso, adicione o seguinte atributo:\n",
    "\n",
    "*   `self.colunas`: Atributo do tipo `list` onde os elementos são os nome das colunas;\n",
    "\n",
    "A classe também deve conter o seguinte método:\n",
    "\n",
    "*   `self.extrair_nome_colunas`: Método que retorna o nome das colunas do arquivo.\n",
    "\n",
    "\n",
    "*   `extrair_coluna`: Método que recebe como parâmetro o indice da coluna e retorna o valor em questão."
   ]
  },
  {
   "cell_type": "code",
   "execution_count": 10,
   "metadata": {
    "id": "2r3mfEyYIlL0"
   },
   "outputs": [],
   "source": [
    "class ArquivoCSV(ArquivoTexto):\n",
    "\n",
    "    def __init__(self, arquivo: str):\n",
    "        super().__init__(arquivo=arquivo)\n",
    "        self.colunas = self.extrair_nome_colunas()\n",
    "\n",
    "    def extrair_nome_colunas(self):\n",
    "        nome = []\n",
    "        nome.append(self.conteudo[0].split(','))\n",
    "        return nome\n",
    "    \n",
    "    def extrair_coluna(self, indice_coluna: int):\n",
    "        coluna = list()\n",
    "        for linha in self.conteudo:\n",
    "            tratamento = linha.strip().split(sep=\",\")\n",
    "            coluna.append(tratamento[indice_coluna])\n",
    "        coluna.pop(0)\n",
    "        return coluna\n",
    "\n"
   ]
  },
  {
   "cell_type": "markdown",
   "metadata": {
    "id": "jQm_hBETIlL1"
   },
   "source": [
    "Utilize o código abaixo para testar sua classe."
   ]
  },
  {
   "cell_type": "code",
   "execution_count": 11,
   "metadata": {
    "colab": {
     "base_uri": "https://localhost:8080/"
    },
    "id": "GKSf1YbcIlL1",
    "outputId": "58fb43b4-a691-4bc4-e850-530795ecb01a"
   },
   "outputs": [
    {
     "name": "stdout",
     "output_type": "stream",
     "text": [
      "['id,valor_venda,valor_manutencao,portas,pessoas,porta_malas']\n",
      "[['id', 'valor_venda', 'valor_manutencao', 'portas', 'pessoas', 'porta_malas\\n']]\n",
      "['9,low,med,2,2,small']\n",
      "['med', 'vhigh', 'vhigh', 'high', 'high', 'high', 'high', 'med', 'med', 'med', 'med', 'low', 'low', 'low']\n"
     ]
    }
   ],
   "source": [
    "arquivo_csv = ArquivoCSV(arquivo='carros.csv')\n",
    "\n",
    "numero_linha = 1\n",
    "print(arquivo_csv.extrair_linha(numero_linha=numero_linha)) # id,valor_venda,valor_manutencao,portas,pessoas,porta_malas\n",
    "\n",
    "print(arquivo_csv.colunas) # ['id', 'valor_venda', 'valor_manutencao', 'portas', 'pessoas', 'porta_malas']\n",
    "\n",
    "numero_linha = 10\n",
    "print(arquivo_csv.extrair_linha(numero_linha=numero_linha)) # 9,low,med,2,2,small\n",
    "\n",
    "\n",
    "indice_coluna = 2\n",
    "print(arquivo_csv.extrair_coluna(indice_coluna=indice_coluna)) # ['med', 'vhigh', 'vhigh', 'high', 'high', 'high', 'high', 'med', 'med', 'med', 'med', 'low', 'low', 'low']"
   ]
  },
  {
   "cell_type": "markdown",
   "metadata": {
    "id": "78xH4bWUIlL2"
   },
   "source": [
    "---"
   ]
  },
  {
   "cell_type": "markdown",
   "metadata": {
    "id": "NJbvryYdxEzP"
   },
   "source": [
    "# Exercício bônus"
   ]
  },
  {
   "cell_type": "markdown",
   "metadata": {
    "id": "_V9ct8RDxH_Q"
   },
   "source": [
    "1. Classe para ler o arquivo csv\n",
    "\n",
    "Crie a classe `ArquivoCSV2`. Ela deve extender (herdar) a classe `ArquivoTexto` para reaproveitar o seu atributos `self.arquivo` e o método `self.extrair_linha`. \n",
    "\n",
    "\n",
    "A classe também deve conter o seguinte método:\n",
    "\n",
    "*   `self.extrair_coluna_da_linha`: Método que recebe como parâmetro o numero da linha e o indice da coluna e retorna o valor em questão."
   ]
  },
  {
   "cell_type": "code",
   "execution_count": 36,
   "metadata": {
    "id": "Z6I7Jix4xFq9"
   },
   "outputs": [],
   "source": [
    "class ArquivoCSV2(ArquivoTexto):\n",
    "\n",
    "    # Composição da nova classe, herdando uma classe já criada\n",
    "    def __init__(self, arquivo: str):\n",
    "        super().__init__(arquivo=arquivo)\n",
    "        self.linha = self.extrair_linha(numero_linha)\n",
    "        \n",
    "    def extrair_coluna_da_linha(self, numero_linha: int, indice_coluna: int):\n",
    "        for i in self.linha:\n",
    "            tratamento = i.strip().split(sep=\",\")\n",
    "            return tratamento[indice_coluna-1]"
   ]
  },
  {
   "cell_type": "code",
   "execution_count": 37,
   "metadata": {
    "colab": {
     "base_uri": "https://localhost:8080/"
    },
    "id": "g5qO9O2Xx62p",
    "outputId": "9224ead4-84d6-4aa7-efd0-c9b21fefedf4"
   },
   "outputs": [
    {
     "name": "stdout",
     "output_type": "stream",
     "text": [
      "low\n"
     ]
    }
   ],
   "source": [
    "arquivo_csv2 = ArquivoCSV2(arquivo='carros.csv')\n",
    "\n",
    "\n",
    "numero_linha = 10\n",
    "indice_coluna = 2\n",
    "print(arquivo_csv2.extrair_coluna_da_linha(numero_linha=numero_linha, indice_coluna=indice_coluna)) # low"
   ]
  },
  {
   "cell_type": "code",
   "execution_count": null,
   "metadata": {
    "id": "JK_ar5oax9aU"
   },
   "outputs": [],
   "source": []
  }
 ],
 "metadata": {
  "colab": {
   "collapsed_sections": [],
   "name": "module_6_exercise-revisado.ipynb",
   "provenance": [],
   "toc_visible": true
  },
  "kernelspec": {
   "display_name": "Python 3 (ipykernel)",
   "language": "python",
   "name": "python3"
  },
  "language_info": {
   "codemirror_mode": {
    "name": "ipython",
    "version": 3
   },
   "file_extension": ".py",
   "mimetype": "text/x-python",
   "name": "python",
   "nbconvert_exporter": "python",
   "pygments_lexer": "ipython3",
   "version": "3.9.7"
  }
 },
 "nbformat": 4,
 "nbformat_minor": 4
}
