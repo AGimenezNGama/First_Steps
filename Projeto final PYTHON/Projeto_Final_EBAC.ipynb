{
 "cells": [
  {
   "cell_type": "markdown",
   "id": "1803edc7-ef22-4758-97ba-d877dde6ce70",
   "metadata": {},
   "source": [
    "# PROJETO FINAL : Análise de dados com Python\n",
    "Escola Britânica de Artes Criativas - EBAC"
   ]
  },
  {
   "cell_type": "markdown",
   "id": "bad811d5-3198-4c5e-9971-b73674617fff",
   "metadata": {
    "tags": []
   },
   "source": [
    "Professor: [André Perez](https://www.linkedin.com/in/andremarcosperez/)"
   ]
  },
  {
   "cell_type": "markdown",
   "id": "24fcde73-31e2-4256-bd53-c4578df9c79c",
   "metadata": {},
   "source": [
    "---"
   ]
  },
  {
   "cell_type": "markdown",
   "id": "f4f863ad-1809-49a6-9726-5eb22cc6bbe0",
   "metadata": {},
   "source": [
    "#  **ETAPAS**\n",
    "\n",
    "<ol type=\"1\">\n",
    "  <li>Acesso ao banco de dados;</li>\n",
    "  <li>exploração dos Dados;</li>\n",
    "  <li>Tratamento e modelagem;</li>\n",
    "  <li>Validação e Visualização</li>\n",
    "</ol>\n"
   ]
  },
  {
   "cell_type": "markdown",
   "id": "6cbc1340-3496-4698-8bbd-76abd3a74a59",
   "metadata": {},
   "source": [
    "---"
   ]
  },
  {
   "cell_type": "markdown",
   "id": "fae5efee-ca58-4a29-9bbb-e8127c03267f",
   "metadata": {},
   "source": [
    "## Importando as bibliotecas necessárias para análise e visualização da Data Base."
   ]
  },
  {
   "cell_type": "code",
   "execution_count": 1,
   "id": "4a20f283-7747-4420-a311-5810780951d9",
   "metadata": {
    "ExecuteTime": {
     "end_time": "2023-02-04T17:45:37.629755Z",
     "start_time": "2023-02-04T17:45:34.087913Z"
    }
   },
   "outputs": [],
   "source": [
    "import pandas as pd \n",
    "import matplotlib.pyplot as plt\n",
    "import seaborn as sns\n",
    "\n",
    "sns.set_style('whitegrid')"
   ]
  },
  {
   "cell_type": "markdown",
   "id": "1a962439-5ff6-43cd-9a7e-680d2793d0e9",
   "metadata": {},
   "source": [
    "## Importando a fonte da Data Base, que neste caso foi fornecido pelo professor orientador."
   ]
  },
  {
   "cell_type": "code",
   "execution_count": 2,
   "id": "db0c12dd-0cda-44b0-a576-67531a9d21f9",
   "metadata": {
    "ExecuteTime": {
     "end_time": "2023-02-04T17:45:37.645759Z",
     "start_time": "2023-02-04T17:45:37.629755Z"
    }
   },
   "outputs": [],
   "source": [
    "URL ='https://raw.githubusercontent.com/andre-marcos-perez/ebac-course-utils/develop/dataset/credito.csv'"
   ]
  },
  {
   "cell_type": "markdown",
   "id": "5ba0f6d1-54ad-4009-ae4c-0c5ce75aef1c",
   "metadata": {},
   "source": [
    "### *Legenda*\n",
    "\n",
    "| COLUNA  | DESCRIÇÃO |\n",
    "| ------- | --------- |\n",
    "| id      | Número da conta |\n",
    "| default | Adimplente (0); Inadimplente (1) |\n",
    "| idade   | Idade |\n",
    "| sexo    | Gênero |\n",
    "| depedentes | Quantidade de pessoas dependentes diretamente |\n",
    "| escolaridade | Formação |\n",
    "| estado_civil | Estado civíl |\n",
    "| salario_anual | Faixa do salario mensal multiplicado por 12 |\n",
    "| tipo_cartao | Categoria do cartao: blue, silver, gold e platinium |\n",
    "| meses_de_relacionamento | Quantidade de meses desde a abertura da conta |\n",
    "| qtd_produtos | Quantidade de produtos contratados |\n",
    "| iteracoes_12m | Quantidade de iteracoes com o cliente no último ano |\n",
    "| meses_inatico_12m | Quantidade de meses que o cliente ficou inativo no último ano |\n",
    "| limite_credito | Valor do limite do cartão de crédito |\n",
    "| valor_transacoes_12m | Soma total do valor das transações no cartão de crédito no último ano |\n",
    "| qtd_transacoes_12m | Quantidade total de transações no cartão de crédito no último ano |\n"
   ]
  },
  {
   "cell_type": "markdown",
   "id": "b44319ad-f540-499a-b5b1-ea263a1bae52",
   "metadata": {},
   "source": [
    "## TRATAMENTO DOS DADOS"
   ]
  },
  {
   "cell_type": "code",
   "execution_count": 3,
   "id": "b01c8c0b-7cbb-4a0f-9e4e-37e476669011",
   "metadata": {
    "ExecuteTime": {
     "end_time": "2023-02-04T17:45:39.144634Z",
     "start_time": "2023-02-04T17:45:37.645759Z"
    }
   },
   "outputs": [
    {
     "name": "stdout",
     "output_type": "stream",
     "text": [
      "<class 'pandas.core.frame.DataFrame'>\n",
      "RangeIndex: 10127 entries, 0 to 10126\n",
      "Data columns (total 16 columns):\n",
      " #   Column                   Non-Null Count  Dtype \n",
      "---  ------                   --------------  ----- \n",
      " 0   id                       10127 non-null  int64 \n",
      " 1   default                  10127 non-null  int64 \n",
      " 2   idade                    10127 non-null  int64 \n",
      " 3   sexo                     10127 non-null  object\n",
      " 4   dependentes              10127 non-null  int64 \n",
      " 5   escolaridade             8608 non-null   object\n",
      " 6   estado_civil             9378 non-null   object\n",
      " 7   salario_anual            9015 non-null   object\n",
      " 8   tipo_cartao              10127 non-null  object\n",
      " 9   meses_de_relacionamento  10127 non-null  int64 \n",
      " 10  qtd_produtos             10127 non-null  int64 \n",
      " 11  iteracoes_12m            10127 non-null  int64 \n",
      " 12  meses_inativo_12m        10127 non-null  int64 \n",
      " 13  limite_credito           10127 non-null  object\n",
      " 14  valor_transacoes_12m     10127 non-null  object\n",
      " 15  qtd_transacoes_12m       10127 non-null  int64 \n",
      "dtypes: int64(9), object(7)\n",
      "memory usage: 1.2+ MB\n"
     ]
    }
   ],
   "source": [
    "df = pd.read_csv(URL, na_values = 'na')\n",
    "df.info()"
   ]
  },
  {
   "cell_type": "code",
   "execution_count": 4,
   "id": "9f818ff7-7a6f-4c64-9e6c-5a544c983234",
   "metadata": {
    "ExecuteTime": {
     "end_time": "2023-02-04T17:45:39.176434Z",
     "start_time": "2023-02-04T17:45:39.144634Z"
    }
   },
   "outputs": [
    {
     "data": {
      "text/plain": [
       "id                            0\n",
       "default                       0\n",
       "idade                         0\n",
       "sexo                          0\n",
       "dependentes                   0\n",
       "escolaridade               1519\n",
       "estado_civil                749\n",
       "salario_anual              1112\n",
       "tipo_cartao                   0\n",
       "meses_de_relacionamento       0\n",
       "qtd_produtos                  0\n",
       "iteracoes_12m                 0\n",
       "meses_inativo_12m             0\n",
       "limite_credito                0\n",
       "valor_transacoes_12m          0\n",
       "qtd_transacoes_12m            0\n",
       "dtype: int64"
      ]
     },
     "execution_count": 4,
     "metadata": {},
     "output_type": "execute_result"
    }
   ],
   "source": [
    "df.isna().sum()"
   ]
  },
  {
   "cell_type": "code",
   "execution_count": 5,
   "id": "65387cb6-4bb4-47cc-8140-44a56c481bc6",
   "metadata": {
    "ExecuteTime": {
     "end_time": "2023-02-04T17:45:39.208295Z",
     "start_time": "2023-02-04T17:45:39.176434Z"
    }
   },
   "outputs": [
    {
     "data": {
      "text/plain": [
       "id                         0\n",
       "default                    0\n",
       "idade                      0\n",
       "sexo                       0\n",
       "dependentes                0\n",
       "escolaridade               0\n",
       "estado_civil               0\n",
       "salario_anual              0\n",
       "tipo_cartao                0\n",
       "meses_de_relacionamento    0\n",
       "qtd_produtos               0\n",
       "iteracoes_12m              0\n",
       "meses_inativo_12m          0\n",
       "limite_credito             0\n",
       "valor_transacoes_12m       0\n",
       "qtd_transacoes_12m         0\n",
       "dtype: int64"
      ]
     },
     "execution_count": 5,
     "metadata": {},
     "output_type": "execute_result"
    }
   ],
   "source": [
    "df.dropna(inplace = True)\n",
    "df.isna().sum()"
   ]
  },
  {
   "cell_type": "code",
   "execution_count": 6,
   "id": "416268c2-9131-4a35-8ef5-a16d1056c944",
   "metadata": {
    "ExecuteTime": {
     "end_time": "2023-02-04T17:45:39.221827Z",
     "start_time": "2023-02-04T17:45:39.208295Z"
    }
   },
   "outputs": [
    {
     "data": {
      "text/plain": [
       "id                          int64\n",
       "default                     int64\n",
       "idade                       int64\n",
       "sexo                       object\n",
       "dependentes                 int64\n",
       "escolaridade               object\n",
       "estado_civil               object\n",
       "salario_anual              object\n",
       "tipo_cartao                object\n",
       "meses_de_relacionamento     int64\n",
       "qtd_produtos                int64\n",
       "iteracoes_12m               int64\n",
       "meses_inativo_12m           int64\n",
       "limite_credito             object\n",
       "valor_transacoes_12m       object\n",
       "qtd_transacoes_12m          int64\n",
       "dtype: object"
      ]
     },
     "execution_count": 6,
     "metadata": {},
     "output_type": "execute_result"
    }
   ],
   "source": [
    "df.dtypes"
   ]
  },
  {
   "cell_type": "code",
   "execution_count": 7,
   "id": "675fe207-9236-4774-aa7d-4d2f460a2a16",
   "metadata": {
    "ExecuteTime": {
     "end_time": "2023-02-04T17:45:39.248342Z",
     "start_time": "2023-02-04T17:45:39.224333Z"
    }
   },
   "outputs": [],
   "source": [
    "function_int = lambda valor: float(valor.replace(\".\", \"\").replace(\",\", \".\"))\n",
    "\n",
    "df['limite_credito'] = df['limite_credito'].apply(function_int)\n",
    "df['valor_transacoes_12m'] = df['valor_transacoes_12m'].apply(function_int)"
   ]
  },
  {
   "cell_type": "code",
   "execution_count": 8,
   "id": "01b257e9-7671-4167-9a89-27bdd2cf67c3",
   "metadata": {
    "ExecuteTime": {
     "end_time": "2023-02-04T17:45:39.280343Z",
     "start_time": "2023-02-04T17:45:39.248342Z"
    }
   },
   "outputs": [
    {
     "data": {
      "text/plain": [
       "id                           int64\n",
       "default                      int64\n",
       "idade                        int64\n",
       "sexo                        object\n",
       "dependentes                  int64\n",
       "escolaridade                object\n",
       "estado_civil                object\n",
       "salario_anual               object\n",
       "tipo_cartao                 object\n",
       "meses_de_relacionamento      int64\n",
       "qtd_produtos                 int64\n",
       "iteracoes_12m                int64\n",
       "meses_inativo_12m            int64\n",
       "limite_credito             float64\n",
       "valor_transacoes_12m       float64\n",
       "qtd_transacoes_12m           int64\n",
       "dtype: object"
      ]
     },
     "execution_count": 8,
     "metadata": {},
     "output_type": "execute_result"
    }
   ],
   "source": [
    "df.dtypes"
   ]
  },
  {
   "cell_type": "markdown",
   "id": "317f16cc-f4f9-4f33-a695-3228cfd53214",
   "metadata": {},
   "source": [
    "## ENTENDENDO A BASE DE DADOS"
   ]
  },
  {
   "cell_type": "code",
   "execution_count": 9,
   "id": "a57b1cb9-fd68-495f-9a72-761e95e485f7",
   "metadata": {
    "ExecuteTime": {
     "end_time": "2023-02-04T17:45:39.312337Z",
     "start_time": "2023-02-04T17:45:39.280343Z"
    }
   },
   "outputs": [],
   "source": [
    "total,_ = df.shape\n",
    "adimp,_ = df[df['default'] == 0].shape\n",
    "inadimp,_ = df[df['default'] == 1].shape"
   ]
  },
  {
   "cell_type": "code",
   "execution_count": 10,
   "id": "a30dc93a-9e8e-4604-8856-ce773c1f937c",
   "metadata": {
    "ExecuteTime": {
     "end_time": "2023-02-04T17:45:39.328366Z",
     "start_time": "2023-02-04T17:45:39.312337Z"
    }
   },
   "outputs": [
    {
     "name": "stdout",
     "output_type": "stream",
     "text": [
      "O total de inadimplentes é de: 15.72% ou 1113 de 7081.\n",
      "O total de adimplentes é de: 84.28% ou 5968 de 7081.\n"
     ]
    }
   ],
   "source": [
    "print(f'O total de inadimplentes é de: {round(100 * inadimp/total,2)}% ou {inadimp} de {total}.\\nO total de adimplentes é de: {round(100 * adimp/total,2)}% ou {adimp} de {total}.')"
   ]
  },
  {
   "cell_type": "markdown",
   "id": "57c4d1ce-0d18-488c-ac24-88ed8a1dcb15",
   "metadata": {},
   "source": [
    "## VISUALIZAÇÃO DOS DADOS"
   ]
  },
  {
   "cell_type": "markdown",
   "id": "b3caf4df-97db-4a4a-afbd-1198df5d3b4a",
   "metadata": {},
   "source": [
    "---"
   ]
  },
  {
   "cell_type": "code",
   "execution_count": 11,
   "id": "1936e5be-f693-48f3-a7c2-2aec7b3992db",
   "metadata": {
    "ExecuteTime": {
     "end_time": "2023-02-04T17:45:39.756101Z",
     "start_time": "2023-02-04T17:45:39.328366Z"
    }
   },
   "outputs": [
    {
     "name": "stderr",
     "output_type": "stream",
     "text": [
      "C:\\Users\\alexy\\AppData\\Local\\Temp/ipykernel_30204/1252153175.py:31: UserWarning: Matplotlib is currently using module://matplotlib_inline.backend_inline, which is a non-GUI backend, so cannot show the figure.\n",
      "  figura.show()\n"
     ]
    },
    {
     "data": {
      "image/png": "[encoded data removed]",
      "text/plain": [
       "<Figure size 720x360 with 2 Axes>"
      ]
     },
     "metadata": {},
     "output_type": "display_data"
    }
   ],
   "source": [
    "adimp = df[df['default'] == 0]\n",
    "inadimp = df[df['default'] == 1]\n",
    "\n",
    "coluna = 'escolaridade'\n",
    "titulos = ['Escolaridade dos Clientes Adimplentes', 'Escolaridade dos Clientes Inadimplentes']\n",
    "\n",
    "eixo = 0\n",
    "max_y = 0\n",
    "max = df.select_dtypes('object').describe()[coluna]['freq'] * 1.1\n",
    "figura, eixos = plt.subplots(1,2, figsize=(10, 5), sharex=True)\n",
    "\n",
    "\n",
    "for dataframe in [adimp,inadimp]:\n",
    "\n",
    "    df_to_plot = dataframe[coluna].value_counts().to_frame()\n",
    "    df_to_plot.rename(columns={coluna: 'default'}, inplace=True)\n",
    "    df_to_plot[coluna] = df_to_plot.index\n",
    "    df_to_plot.sort_values(by=[coluna], inplace=True)\n",
    "    df_to_plot.sort_values(by=[coluna])\n",
    "\n",
    "    f = sns.barplot(x=df_to_plot[coluna], y=df_to_plot['default'], ax=eixos[eixo])\n",
    "    f.set(title=titulos[eixo], xlabel=coluna.capitalize(), ylabel='default')\n",
    "    f.set_xticklabels(labels=f.get_xticklabels(), rotation=90)\n",
    "\n",
    "    _, max_y_f = f.get_ylim()\n",
    "    max_y = max_y_f if max_y_f > max_y else max_y\n",
    "    f.set(ylim=(0, max_y))\n",
    "\n",
    "    eixo += 1\n",
    "\n",
    "figura.show()"
   ]
  },
  {
   "cell_type": "code",
   "execution_count": 12,
   "id": "2c31d57c-4b2f-46ef-a1e3-04804c818caa",
   "metadata": {
    "ExecuteTime": {
     "end_time": "2023-02-04T17:45:41.037440Z",
     "start_time": "2023-02-04T17:45:39.757349Z"
    }
   },
   "outputs": [
    {
     "name": "stderr",
     "output_type": "stream",
     "text": [
      "C:\\Users\\alexy\\AppData\\Local\\Temp/ipykernel_30204/3807283946.py:29: UserWarning: Matplotlib is currently using module://matplotlib_inline.backend_inline, which is a non-GUI backend, so cannot show the figure.\n",
      "  figura.show()\n"
     ]
    },
    {
     "data": {
      "image/png": "[encoded data removed]",
      "text/plain": [
       "<Figure size 1440x720 with 2 Axes>"
      ]
     },
     "metadata": {},
     "output_type": "display_data"
    }
   ],
   "source": [
    "coluna = 'idade'\n",
    "titulos = ['Idade dos Clientes Adimplentes', 'Idade dos Clientes Inadimplentes']\n",
    "\n",
    "eixo = 0\n",
    "max_y = 0\n",
    "max = df.select_dtypes('int').describe()[coluna]['max']\n",
    "\n",
    "figura, eixos = plt.subplots(1,2, figsize=(20, 10), sharex=True)\n",
    "\n",
    "\n",
    "for dataframe in [adimp, inadimp]:\n",
    "\n",
    "    df_to_plot = dataframe[coluna].value_counts().to_frame()\n",
    "    df_to_plot.rename(columns={coluna: 'Default'}, inplace=True)\n",
    "    df_to_plot[coluna] = df_to_plot.index\n",
    "    df_to_plot.sort_values(by=[coluna], inplace=True)\n",
    "    df_to_plot.sort_values(by=[coluna])\n",
    "\n",
    "    f = sns.barplot(x=df_to_plot[coluna], y=df_to_plot['Default'], ax=eixos[eixo])\n",
    "    f.set(title=titulos[eixo], xlabel=coluna.capitalize(), ylabel='Default')\n",
    "    f.set_xticklabels(labels=f.get_xticklabels(), rotation=90)\n",
    "\n",
    "    _, max_y_f = f.get_ylim()\n",
    "    max_y = max_y_f if max_y_f > max_y else max_y\n",
    "    f.set(ylim=(0, max_y))\n",
    "\n",
    "    eixo += 1\n",
    "\n",
    "figura.show()"
   ]
  },
  {
   "cell_type": "code",
   "execution_count": 13,
   "id": "dfc81bd6-51a9-4a77-8617-85fe2b73c754",
   "metadata": {
    "ExecuteTime": {
     "end_time": "2023-02-04T17:45:41.710430Z",
     "start_time": "2023-02-04T17:45:41.037440Z"
    }
   },
   "outputs": [
    {
     "name": "stderr",
     "output_type": "stream",
     "text": [
      "C:\\Users\\alexy\\AppData\\Local\\Temp/ipykernel_30204/3134822399.py:29: UserWarning: Matplotlib is currently using module://matplotlib_inline.backend_inline, which is a non-GUI backend, so cannot show the figure.\n",
      "  figura.show()\n"
     ]
    },
    {
     "data": {
      "image/png": "[encoded data removed]",
      "text/plain": [
       "<Figure size 1440x720 with 2 Axes>"
      ]
     },
     "metadata": {},
     "output_type": "display_data"
    }
   ],
   "source": [
    "coluna = 'salario_anual'\n",
    "titulos = ['Salario Anual dos Clientes Adimplentes', 'Salario anual dos Clientes Inadimplentes']\n",
    "\n",
    "eixo = 0\n",
    "max_y = 0\n",
    "max = df.select_dtypes('object').describe()[coluna]['freq']\n",
    "\n",
    "figura, eixos = plt.subplots(1,2, figsize=(20, 10), sharex=True)\n",
    "\n",
    "\n",
    "for dataframe in [adimp, inadimp]:\n",
    "\n",
    "    df_to_plot = dataframe[coluna].value_counts().to_frame()\n",
    "    df_to_plot.rename(columns={coluna: 'Default'}, inplace=True)\n",
    "    df_to_plot[coluna] = df_to_plot.index\n",
    "    df_to_plot.sort_values(by=[coluna], inplace=True)\n",
    "    df_to_plot.sort_values(by=[coluna])\n",
    "\n",
    "    f = sns.barplot(x=df_to_plot[coluna], y=df_to_plot['Default'], ax=eixos[eixo])\n",
    "    f.set(title=titulos[eixo], xlabel=coluna.capitalize(), ylabel='Default')\n",
    "    f.set_xticklabels(labels=f.get_xticklabels(), rotation=60)\n",
    "\n",
    "    _, max_y_f = f.get_ylim()\n",
    "    max_y = max_y_f if max_y_f > max_y else max_y\n",
    "    f.set(ylim=(0, max_y))\n",
    "\n",
    "    eixo += 1\n",
    "\n",
    "figura.show()"
   ]
  },
  {
   "cell_type": "code",
   "execution_count": 14,
   "id": "91254ef9-752b-48d9-88d9-2f424307abb0",
   "metadata": {
    "ExecuteTime": {
     "end_time": "2023-02-04T17:45:44.393388Z",
     "start_time": "2023-02-04T17:45:41.710430Z"
    }
   },
   "outputs": [
    {
     "name": "stderr",
     "output_type": "stream",
     "text": [
      "C:\\Users\\alexy\\AppData\\Local\\Temp/ipykernel_30204/680911096.py:29: UserWarning: Matplotlib is currently using module://matplotlib_inline.backend_inline, which is a non-GUI backend, so cannot show the figure.\n",
      "  figura_12m.show()\n"
     ]
    },
    {
     "data": {
      "image/png": "[encoded data removed]",
      "text/plain": [
       "<Figure size 1440x576 with 2 Axes>"
      ]
     },
     "metadata": {},
     "output_type": "display_data"
    }
   ],
   "source": [
    "coluna = 'qtd_transacoes_12m'\n",
    "titulos = ['Transações anuais Clientes Adimplentes', 'Transações anuais dos Clientes Inadimplentes']\n",
    "\n",
    "eixo = 0\n",
    "max_y = 0\n",
    "max = df.select_dtypes('int').describe()[coluna]['max']\n",
    "\n",
    "figura_12m, eixos = plt.subplots(1,2, figsize=(20, 8), sharex=True)\n",
    "\n",
    "\n",
    "for dataframe in [adimp, inadimp]:\n",
    "\n",
    "    df_to_plot = dataframe[coluna].value_counts().to_frame()\n",
    "    df_to_plot.rename(columns={coluna: 'Default'}, inplace=True)\n",
    "    df_to_plot[coluna] = df_to_plot.index\n",
    "    df_to_plot.sort_values(by=[coluna], inplace=True)\n",
    "    df_to_plot.sort_values(by=[coluna])\n",
    "\n",
    "    f = sns.barplot(x=df_to_plot['Default'], y=df_to_plot[coluna], ax=eixos[eixo])\n",
    "    f.set(title=titulos[eixo], xlabel=coluna.capitalize(), ylabel='Default')\n",
    "    f.set_xticklabels(labels=f.get_xticklabels())\n",
    "\n",
    "    _, max_y_f = f.get_ylim()\n",
    "    max_y = max_y_f if max_y_f > max_y else max_y\n",
    "    f.set(ylim=(0, max_y))\n",
    "\n",
    "    eixo += 1\n",
    "\n",
    "figura_12m.show()"
   ]
  },
  {
   "cell_type": "markdown",
   "id": "004b8e60-0039-4b0a-ae22-06037544a1de",
   "metadata": {},
   "source": [
    "## ANÁLISE"
   ]
  },
  {
   "cell_type": "markdown",
   "id": "ebe649e9-4170-4533-8583-b21bb7e634fe",
   "metadata": {},
   "source": [
    "- Ao aprensentar a analise dos dados, percebe-se que, na conjuntura hipotética, o número de clientes inadimplentes, ou seja, os quais NÃO têm credito com a instituição financeira, seria de aproximadamente 1/5 dos adimplentes. *Mesmo após a limpeza dos dados.*"
   ]
  },
  {
   "cell_type": "markdown",
   "id": "d5ca267e-8fe9-4106-b972-5c1d65e4696f",
   "metadata": {},
   "source": [
    "<ol type=\"1\">   \n",
    "    - Os gráficos mostram uma base para afirmarmos as seguintes condições:\n",
    "\n",
    "    \n",
    "  <li>O padrão de inadimplencia por idade afirma que nas fases onde o cliente ainda está construindo seu patrimônio seria o momento em que o mesmo se endivida mais, assim como quando ele está proximo, ou usufruindo, da aposentadoria.\n",
    "    Opostamente, a fase adulta ativa, dos 35 anos até 56 anos, é quando a estabilidade financeira, dos clientes desta instituição financeira, estão no auge e assim contemplando o momento.</li>\n",
    "  <li>Em relação a escolaridade, segue-se um padrão variado, onde os que têm apenas o bacharel/tecnologo, encontram-se mais endividados em relação ao cliente com especializações e até mesmo aos clientes sem formação superior. \n",
    "      Destaca-se os clientes com ensino médio, que se mantem com baixa inadimplencia.\n",
    "      O insight (1) pode ser levado em consideração, pois a maior parte dos estudantes brasileiros do ensino superior encontram-se endividados e encontram-se na faixa etária do gráfico supracitado (1);</li>\n",
    "  <li>Em relação a renda anual, pode-se afirmar que quanto menor a renda, maior a probabilidade de inadimplencia, somando aos insight anteriores, inclusive ao gráfico do volume de transações ao longo de 12 meses, comprova-se a desigualdade economica e social </li>\n",
    "</ol>"
   ]
  }
 ],
 "metadata": {
  "kernelspec": {
   "display_name": "Python 3 (ipykernel)",
   "language": "python",
   "name": "python3"
  },
  "language_info": {
   "codemirror_mode": {
    "name": "ipython",
    "version": 3
   },
   "file_extension": ".py",
   "mimetype": "text/x-python",
   "name": "python",
   "nbconvert_exporter": "python",
   "pygments_lexer": "ipython3",
   "version": "3.9.7"
  },
  "toc": {
   "base_numbering": 1,
   "nav_menu": {},
   "number_sections": true,
   "sideBar": true,
   "skip_h1_title": false,
   "title_cell": "Table of Contents",
   "title_sidebar": "Contents",
   "toc_cell": false,
   "toc_position": {},
   "toc_section_display": true,
   "toc_window_display": false
  }
 },
 "nbformat": 4,
 "nbformat_minor": 5
}
