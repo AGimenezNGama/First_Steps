{
 "cells": [
  {
   "cell_type": "markdown",
   "metadata": {
    "id": "KJqp9AANOCtf"
   },
   "source": [
    "<img src=\"https://raw.githubusercontent.com/andre-marcos-perez/ebac-course-utils/main/media/logo/newebac_logo_black_half.png\" alt=\"ebac-logo\">\n",
    "\n",
    "---\n",
    "\n",
    "# **Módulo 08** | Python: Tratamento de Erros\n",
    "Caderno de **Exercícios**<br> \n",
    "Professor [André Perez](https://www.linkedin.com/in/andremarcosperez/)\n",
    "\n",
    "---"
   ]
  },
  {
   "cell_type": "markdown",
   "metadata": {
    "id": "d9jDtUbDOE1-"
   },
   "source": [
    "# **Tópicos**\n",
    "\n",
    "<ol type=\"1\">\n",
    "  <li>Tipos de erros;</li>\n",
    "  <li>Erros de sintaxe;</li>\n",
    "  <li>Erros em tempo de execução.</li>\n",
    "</ol>"
   ]
  },
  {
   "cell_type": "markdown",
   "metadata": {
    "id": "SmoHgt-lwkpD"
   },
   "source": [
    "---"
   ]
  },
  {
   "cell_type": "markdown",
   "metadata": {
    "id": "GABI6OW8OfQ2"
   },
   "source": [
    "# **Exercícios**"
   ]
  },
  {
   "cell_type": "markdown",
   "metadata": {
    "id": "muD1vxozykSC"
   },
   "source": [
    "## 1\\. Erros de sintaxe"
   ]
  },
  {
   "cell_type": "markdown",
   "metadata": {
    "id": "ahrFfCuBxJKs"
   },
   "source": [
    "Identifique o erro de sintaxe nos trechos de código abaixo e corrija-os para que o trecho de código funcione."
   ]
  },
  {
   "cell_type": "markdown",
   "metadata": {
    "id": "sCluir52-zGM"
   },
   "source": [
    " - Laços de repetição."
   ]
  },
  {
   "cell_type": "code",
   "execution_count": 23,
   "metadata": {
    "id": "eebFnvGd-zSC"
   },
   "outputs": [
    {
     "name": "stdout",
     "output_type": "stream",
     "text": [
      "Para o documento 123, o valor do escore de crédito é 750.\n",
      "Para o documento 456, o valor do escore de crédito é 812.\n",
      "Para o documento 789, o valor do escore de crédito é 980.\n"
     ]
    }
   ],
   "source": [
    "credito = {'123': 750, '456': 812, '789': 980}\n",
    "\n",
    "for chave, valor in credito.items():\n",
    "  print(f'Para o documento {chave}, o valor do escore de crédito é {valor}.')"
   ]
  },
  {
   "cell_type": "markdown",
   "metadata": {
    "id": "NKDaQYt889VZ"
   },
   "source": [
    " - Funções"
   ]
  },
  {
   "cell_type": "code",
   "execution_count": 25,
   "metadata": {
    "id": "GZHnCmRH89hg"
   },
   "outputs": [
    {
     "name": "stdout",
     "output_type": "stream",
     "text": [
      "3.14159265359\n"
     ]
    }
   ],
   "source": [
    "def pi() -> float:\n",
    "  return 3.14159265359\n",
    "\n",
    "pi = pi()\n",
    "print(pi)"
   ]
  },
  {
   "cell_type": "markdown",
   "metadata": {
    "id": "i6EIHmQZ8KMy"
   },
   "source": [
    "- Programação Funcional"
   ]
  },
  {
   "cell_type": "code",
   "execution_count": 26,
   "metadata": {
    "id": "_1a3EEYU8JsU"
   },
   "outputs": [
    {
     "name": "stdout",
     "output_type": "stream",
     "text": [
      "['andre.perez@gmail.com', 'andre.perez@live.com', 'andre.perez@yahoo.com']\n"
     ]
    }
   ],
   "source": [
    "emails = ['andre.perez@gmail.com', 'andre.perez@live.com', 'andre.perez@yahoo.com']\n",
    "provedor_da_google = lambda email: 'gmail in email'\n",
    "\n",
    "emails_google = filter(provedor_da_google, emails)\n",
    "print(list(emails_google))"
   ]
  },
  {
   "cell_type": "markdown",
   "metadata": {
    "id": "KI9zQRT2xa7m"
   },
   "source": [
    "- Programação orientação a objetos"
   ]
  },
  {
   "cell_type": "code",
   "execution_count": 29,
   "metadata": {
    "id": "XD-C996C7gvN"
   },
   "outputs": [],
   "source": [
    "class Pessoa(object):\n",
    "\n",
    "  def __init__(self, nome: str, idade: int, documento: str):\n",
    "    self.nome = nome\n",
    "    self.idade = idade\n",
    "    self.documento = documento\n",
    "\n",
    "andre = Pessoa(nome=\"Andre\", idade=30, documento=\"123\")"
   ]
  },
  {
   "cell_type": "markdown",
   "metadata": {
    "id": "zMN1Q3jdwoJm"
   },
   "source": [
    "---"
   ]
  },
  {
   "cell_type": "markdown",
   "metadata": {
    "id": "qh4asQbf6dBX"
   },
   "source": [
    "## 2\\. Erros em tempo de execução"
   ]
  },
  {
   "cell_type": "markdown",
   "metadata": {
    "id": "71iuLvVJ6dB-"
   },
   "source": [
    "Neste exercício vamos trabalhar com o arquivo csv com dados de crédito, definido abaixo. Execute cada uma das células de código para escrever os arquivos na sua máquina virtual."
   ]
  },
  {
   "cell_type": "code",
   "execution_count": 30,
   "metadata": {
    "id": "FCBXZUQd3frz"
   },
   "outputs": [
    {
     "name": "stdout",
     "output_type": "stream",
     "text": [
      "Overwriting credito.csv\n"
     ]
    }
   ],
   "source": [
    "%%writefile credito.csv\n",
    "id_vendedor,valor_emprestimos,quantidade_emprestimos,data\n",
    "104271,448.0,1,20161208\n",
    "21476,826.7,3,20161208\n",
    "87440,313.6,3,20161208\n",
    "15980,808.0,6,20161208\n",
    "215906,2212.0,5,20161208\n",
    "33696,2771.3,2,20161208\n",
    "33893,2240.0,3,20161208\n",
    "214946,\"4151.0\",18,20161208\n",
    "123974,2021.95,2,20161208\n",
    "225870,4039.0,2,20161208"
   ]
  },
  {
   "cell_type": "markdown",
   "metadata": {
    "id": "FIe14G9H3779"
   },
   "source": [
    "O código abaixo deve calcular o total emprestado por cada vendedor mas está \"estourando\" a exceção `ValueError` devido a um erro no conjunto de dados. Utilize a estrutura `try-catch` para garantir que o código seja executado com sucesso. \n",
    "\n",
    "**Atenção:** Você não deve alterar o arquivo de dados."
   ]
  },
  {
   "cell_type": "markdown",
   "metadata": {
    "id": "ppxj6ZqvcsCp"
   },
   "source": [
    "Dicas: \n",
    "\n",
    " \n",
    "\n",
    "1.  Identique o bloco que código que pode gerar a exceção e utilize `try` e `except` de modo que a operação que pode causar o problema seja colocada dentro do bloco `try`, e o código que trata a exceção seja escrito dentro do bloco `except`.\n",
    "2.   Tratar a exceção no `except`: utilize o método `replace()` para remover as aspas do conjunto de dados 'linha_elementos[1]'."
   ]
  },
  {
   "cell_type": "markdown",
   "metadata": {
    "id": "Vr-iv94GVung"
   },
   "source": [
    "Resumo sobre o método `replace()`:\n",
    "\n",
    "O método `replace()` é usado para substituir determinado conteúdo de uma string. Esse método recebe 2 argumentos obrigatórios: o 1º corresponde ao valor original que será substituído e o 2º corresponde ao novo valor inserido.\n",
    "\n",
    "Na prática, o interpretador Python vai percorrer a string e, assim que encontrar o valor correspondente ao 1º argumento vai substituir o conteúdo do 1º argumento pelo conteúdo do 2º argumento. "
   ]
  },
  {
   "cell_type": "markdown",
   "metadata": {
    "id": "OBTRJ_73F12c"
   },
   "source": [
    "\n",
    "Sintaxe:\n",
    "```\n",
    "replace('valor que será substituído', 'novo valor inserido')\n",
    "```\n",
    "\n"
   ]
  },
  {
   "cell_type": "markdown",
   "metadata": {
    "id": "bG0nUyU4izx9"
   },
   "source": [
    "Exemplo - aplicação método replace():"
   ]
  },
  {
   "cell_type": "code",
   "execution_count": 31,
   "metadata": {
    "colab": {
     "base_uri": "https://localhost:8080/"
    },
    "id": "N35DQs_akT2j",
    "outputId": "8d28f3b1-301f-48d5-e1df-83cd757c08ce"
   },
   "outputs": [
    {
     "name": "stdout",
     "output_type": "stream",
     "text": [
      "Módulos finalizados: 1, 2, 3, \"4\", \"5\", \"6\" e 7\n"
     ]
    }
   ],
   "source": [
    "frase2 = 'Módulos finalizados: 1, 2, 3, *4*, *5*, *6* e 7'\n",
    "\n",
    "# Usar o replace() para trocar o caractere asterisco pelo caractere aspas na string \"frase2\"\n",
    "print(frase2.replace('*','\"'))"
   ]
  },
  {
   "cell_type": "markdown",
   "metadata": {
    "id": "Qu_3NPRmbm6Y"
   },
   "source": [
    "Obs: Através do replace() para remover um caractere, o método vai substituir cada caractere por vazio."
   ]
  },
  {
   "cell_type": "code",
   "execution_count": 62,
   "metadata": {
    "id": "cOkNYOdd5GMK"
   },
   "outputs": [
    {
     "name": "stdout",
     "output_type": "stream",
     "text": [
      "{'104271': 448.0}\n",
      "{'21476': 2480.1000000000004}\n",
      "{'87440': 940.8000000000001}\n",
      "{'15980': 4848.0}\n",
      "{'215906': 11060.0}\n",
      "{'33696': 5542.6}\n",
      "{'33893': 6720.0}\n",
      "{'214946': 74718.0}\n",
      "{'123974': 4043.9}\n",
      "{'225870': 8078.0}\n"
     ]
    }
   ],
   "source": [
    "def valor_total_emprestimo(valor: float, quantidade: int) -> float:\n",
    "    return valor * quantidade\n",
    "\n",
    "emprestimos = []\n",
    "\n",
    "with open(file='./credito.csv', mode='r', encoding='utf8') as fp:\n",
    "    fp.readline() # cabeçalho\n",
    "    linha = fp.readline()\n",
    "    while linha:\n",
    "        linha_emprestimo = {}\n",
    "        linha_elementos = linha.strip().split(sep=',')\n",
    "        linha_emprestimo['id_vendedor'] = linha_elementos[0]\n",
    "        \n",
    "        try:\n",
    "            linha_emprestimo['valor_emprestimos'] = float(linha_elementos[1])\n",
    "        except ValueError:\n",
    "            linha_emprestimo['valor_emprestimos'] = float(linha_elementos[1].replace('\"', ''))\n",
    "            \n",
    "        linha_emprestimo['quantidade_emprestimos'] = int(linha_elementos[2])\n",
    "        linha_emprestimo['data'] = linha_elementos[3]\n",
    "        emprestimos.append(linha_emprestimo)\n",
    "        linha = fp.readline()\n",
    "\n",
    "            \n",
    "emprestimos_total = []\n",
    "for emprestimo in emprestimos:\n",
    "    valor_total = valor_total_emprestimo(emprestimo['valor_emprestimos'], emprestimo['quantidade_emprestimos'])\n",
    "    emprestimos_total.append({emprestimo['id_vendedor']: valor_total})\n",
    "\n",
    "for emprestimo_total in emprestimos_total:\n",
    "    print(emprestimo_total)"
   ]
  },
  {
   "cell_type": "markdown",
   "metadata": {
    "id": "0dKgZEQB8ZwP"
   },
   "source": [
    "O resultado final deve ser a impressão da seguinte lista:\n",
    "\n",
    "```\n",
    "{'104271': 448.0}\n",
    "{'21476': 2480.1000000000004}\n",
    "{'87440': 940.8000000000001}\n",
    "{'15980': 4848.0}\n",
    "{'215906': 11060.0}\n",
    "{'33696': 5542.6}\n",
    "{'33893': 6720.0}\n",
    "{'214946': 74718.0}\n",
    "{'123974': 4043.9}\n",
    "{'225870': 8078.0}\n",
    "```"
   ]
  },
  {
   "cell_type": "markdown",
   "metadata": {
    "id": "zkqY6ImS6dCB"
   },
   "source": [
    "---"
   ]
  }
 ],
 "metadata": {
  "colab": {
   "collapsed_sections": [],
   "name": "modulo_8_exercicios_revisado.ipynb",
   "provenance": [],
   "toc_visible": true
  },
  "kernelspec": {
   "display_name": "Python 3 (ipykernel)",
   "language": "python",
   "name": "python3"
  },
  "language_info": {
   "codemirror_mode": {
    "name": "ipython",
    "version": 3
   },
   "file_extension": ".py",
   "mimetype": "text/x-python",
   "name": "python",
   "nbconvert_exporter": "python",
   "pygments_lexer": "ipython3",
   "version": "3.9.7"
  }
 },
 "nbformat": 4,
 "nbformat_minor": 4
}
